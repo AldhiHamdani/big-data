{
  "nbformat": 4,
  "nbformat_minor": 0,
  "metadata": {
    "colab": {
      "name": "Untitled0.ipynb",
      "provenance": [],
      "authorship_tag": "ABX9TyP8JfGGKP7jdHYFkE+PUPPh",
      "include_colab_link": true
    },
    "kernelspec": {
      "name": "python3",
      "display_name": "Python 3"
    },
    "language_info": {
      "name": "python"
    }
  },
  "cells": [
    {
      "cell_type": "markdown",
      "metadata": {
        "id": "view-in-github",
        "colab_type": "text"
      },
      "source": [
        "<a href=\"https://colab.research.google.com/github/AldhiHamdani/big-data/blob/main/tugas2.ipynb\" target=\"_parent\"><img src=\"https://colab.research.google.com/assets/colab-badge.svg\" alt=\"Open In Colab\"/></a>"
      ]
    },
    {
      "cell_type": "markdown",
      "metadata": {
        "id": "K6UnGB58y7ds"
      },
      "source": [
        "Numpy"
      ]
    },
    {
      "cell_type": "markdown",
      "metadata": {
        "id": "57imkdr1zCqw"
      },
      "source": [
        "1. melihat version numpy"
      ]
    },
    {
      "cell_type": "code",
      "metadata": {
        "colab": {
          "base_uri": "https://localhost:8080/",
          "height": 35
        },
        "id": "7fwYn8yLxqI5",
        "outputId": "795ee246-f24d-4399-a4c9-48359461262e"
      },
      "source": [
        "import numpy\n",
        "numpy.__version__"
      ],
      "execution_count": 117,
      "outputs": [
        {
          "output_type": "execute_result",
          "data": {
            "application/vnd.google.colaboratory.intrinsic+json": {
              "type": "string"
            },
            "text/plain": [
              "'1.19.5'"
            ]
          },
          "metadata": {
            "tags": []
          },
          "execution_count": 117
        }
      ]
    },
    {
      "cell_type": "markdown",
      "metadata": {
        "id": "6ChjQeG-ywUT"
      },
      "source": [
        " Mengimport numpy"
      ]
    },
    {
      "cell_type": "code",
      "metadata": {
        "id": "oh3rvEIgzKqA"
      },
      "source": [
        "\n",
        "import numpy as np"
      ],
      "execution_count": 118,
      "outputs": []
    },
    {
      "cell_type": "markdown",
      "metadata": {
        "id": "m_5EZ1mOzOQL"
      },
      "source": [
        "Menampilkan dokumen bawaan numpy"
      ]
    },
    {
      "cell_type": "code",
      "metadata": {
        "id": "JlgtOTIpzU1_"
      },
      "source": [
        "np?"
      ],
      "execution_count": 119,
      "outputs": []
    },
    {
      "cell_type": "markdown",
      "metadata": {
        "id": "YEcQbVTvzXQf"
      },
      "source": [
        "\n",
        "1) UNDERSTANDING DATA TYPES IN PYTHON\n",
        "\n",
        "di python operasi dapat ditulis sebagai berikut"
      ]
    },
    {
      "cell_type": "code",
      "metadata": {
        "id": "K_c3DU5BzZcm"
      },
      "source": [
        "\n",
        "result = 0\n",
        "for i in range(100):\n",
        " result += i"
      ],
      "execution_count": 120,
      "outputs": []
    },
    {
      "cell_type": "markdown",
      "metadata": {
        "id": "CGthYPrvzb5k"
      },
      "source": [
        "a. A Python List Is More Than Just a List\n",
        "\n",
        "1.Menampung multielemen standar yang dapat berubah dalam Python adalah daftar."
      ]
    },
    {
      "cell_type": "code",
      "metadata": {
        "colab": {
          "base_uri": "https://localhost:8080/"
        },
        "id": "7HYDQKCDzfzI",
        "outputId": "b0a93c6e-22f6-4cdd-cbff-4bc4a322498b"
      },
      "source": [
        "\n",
        "L = list(range(10))\n",
        "L"
      ],
      "execution_count": 121,
      "outputs": [
        {
          "output_type": "execute_result",
          "data": {
            "text/plain": [
              "[0, 1, 2, 3, 4, 5, 6, 7, 8, 9]"
            ]
          },
          "metadata": {
            "tags": []
          },
          "execution_count": 121
        }
      ]
    },
    {
      "cell_type": "markdown",
      "metadata": {
        "id": "GQfyEgiUziAX"
      },
      "source": [
        "\n",
        "melihat tipe data dari indeks ke 0"
      ]
    },
    {
      "cell_type": "code",
      "metadata": {
        "colab": {
          "base_uri": "https://localhost:8080/"
        },
        "id": "DdxK_--OznB4",
        "outputId": "d0a1f9db-994e-4ca5-e1f3-bcbb1d5597be"
      },
      "source": [
        "type(L[0])"
      ],
      "execution_count": 122,
      "outputs": [
        {
          "output_type": "execute_result",
          "data": {
            "text/plain": [
              "int"
            ]
          },
          "metadata": {
            "tags": []
          },
          "execution_count": 122
        }
      ]
    },
    {
      "cell_type": "markdown",
      "metadata": {
        "id": "qIUlzox5zt9j"
      },
      "source": [
        "membuat list string"
      ]
    },
    {
      "cell_type": "code",
      "metadata": {
        "colab": {
          "base_uri": "https://localhost:8080/"
        },
        "id": "bXvO6aK1zwp4",
        "outputId": "33f44db7-a36b-4918-a9d1-d2d9bfe48d67"
      },
      "source": [
        "L2 = [str(c) for c in L]\n",
        "L2"
      ],
      "execution_count": 123,
      "outputs": [
        {
          "output_type": "execute_result",
          "data": {
            "text/plain": [
              "['0', '1', '2', '3', '4', '5', '6', '7', '8', '9']"
            ]
          },
          "metadata": {
            "tags": []
          },
          "execution_count": 123
        }
      ]
    },
    {
      "cell_type": "markdown",
      "metadata": {
        "id": "1qvDSTfRzzH3"
      },
      "source": [
        "melihat type data dari indeks ke 0"
      ]
    },
    {
      "cell_type": "code",
      "metadata": {
        "colab": {
          "base_uri": "https://localhost:8080/"
        },
        "id": "eEY662xXz1qn",
        "outputId": "9a68f583-0199-4335-aaff-de8a11e0d8dc"
      },
      "source": [
        "type(L2[0])"
      ],
      "execution_count": 124,
      "outputs": [
        {
          "output_type": "execute_result",
          "data": {
            "text/plain": [
              "str"
            ]
          },
          "metadata": {
            "tags": []
          },
          "execution_count": 124
        }
      ]
    },
    {
      "cell_type": "markdown",
      "metadata": {
        "id": "wiW7Rthoz4XT"
      },
      "source": [
        "membuat daftar heterogen"
      ]
    },
    {
      "cell_type": "code",
      "metadata": {
        "colab": {
          "base_uri": "https://localhost:8080/"
        },
        "id": "JplpUWxPz5Oz",
        "outputId": "e5f7d8a6-bfd9-494c-e0db-e44ede1694a7"
      },
      "source": [
        "L3 = [True, \"2\", 3.0, 4]\n",
        "[type(item) for item in L3]"
      ],
      "execution_count": 125,
      "outputs": [
        {
          "output_type": "execute_result",
          "data": {
            "text/plain": [
              "[bool, str, float, int]"
            ]
          },
          "metadata": {
            "tags": []
          },
          "execution_count": 125
        }
      ]
    },
    {
      "cell_type": "markdown",
      "metadata": {
        "id": "tMoVPjPgz7AS"
      },
      "source": [
        "b. Fixed-Type Arrays in Python\n",
        "\n",
        "membuat array padat dari tipe seragam:"
      ]
    },
    {
      "cell_type": "code",
      "metadata": {
        "colab": {
          "base_uri": "https://localhost:8080/"
        },
        "id": "-7kB_b66z88L",
        "outputId": "306b3337-6d7e-4ed2-a1fc-c8197de297b1"
      },
      "source": [
        "import array\n",
        "L = list(range(10))\n",
        "A = array.array('i', L)\n",
        "A"
      ],
      "execution_count": 126,
      "outputs": [
        {
          "output_type": "execute_result",
          "data": {
            "text/plain": [
              "array('i', [0, 1, 2, 3, 4, 5, 6, 7, 8, 9])"
            ]
          },
          "metadata": {
            "tags": []
          },
          "execution_count": 126
        }
      ]
    },
    {
      "cell_type": "markdown",
      "metadata": {
        "id": "c1Md8T6Hz-j4"
      },
      "source": [
        "\n",
        "c. Creating Arrays from Python Lists\n",
        "\n",
        "membuat array list"
      ]
    },
    {
      "cell_type": "code",
      "metadata": {
        "colab": {
          "base_uri": "https://localhost:8080/"
        },
        "id": "nZry1rn80As3",
        "outputId": "e3f675c0-9719-4e2e-d584-32139ea7ee38"
      },
      "source": [
        "#integer array:\n",
        "np.array([1, 4, 2, 5, 3])"
      ],
      "execution_count": 127,
      "outputs": [
        {
          "output_type": "execute_result",
          "data": {
            "text/plain": [
              "array([1, 4, 2, 5, 3])"
            ]
          },
          "metadata": {
            "tags": []
          },
          "execution_count": 127
        }
      ]
    },
    {
      "cell_type": "markdown",
      "metadata": {
        "id": "1dGAn-iR0C7_"
      },
      "source": [
        "NumPy dibatasi ke array yang semuanya berisi tipe yang sama. Jika jenis tidak cocok, NumPy akan upcast jika memungkinkan (di sini, integer adalah upcast ke floating point):"
      ]
    },
    {
      "cell_type": "code",
      "metadata": {
        "colab": {
          "base_uri": "https://localhost:8080/"
        },
        "id": "7nyqWXX40E3u",
        "outputId": "54b2eaf6-460b-4bc7-efda-19d8b2427293"
      },
      "source": [
        "np.array([3.14, 4, 2, 3])"
      ],
      "execution_count": 128,
      "outputs": [
        {
          "output_type": "execute_result",
          "data": {
            "text/plain": [
              "array([3.14, 4.  , 2.  , 3.  ])"
            ]
          },
          "metadata": {
            "tags": []
          },
          "execution_count": 128
        }
      ]
    },
    {
      "cell_type": "markdown",
      "metadata": {
        "id": "w5kCd5ey0IJI"
      },
      "source": [
        "\n",
        "mengatur tipe data dari array yang dihasilkan, gunakan dtype"
      ]
    },
    {
      "cell_type": "code",
      "metadata": {
        "colab": {
          "base_uri": "https://localhost:8080/"
        },
        "id": "BEgxVe0I0KEF",
        "outputId": "10664cb4-f9e3-4af4-ac75-f8d4f03785a9"
      },
      "source": [
        "np.array([1, 2, 3, 4], dtype='float32')"
      ],
      "execution_count": 129,
      "outputs": [
        {
          "output_type": "execute_result",
          "data": {
            "text/plain": [
              "array([1., 2., 3., 4.], dtype=float32)"
            ]
          },
          "metadata": {
            "tags": []
          },
          "execution_count": 129
        }
      ]
    },
    {
      "cell_type": "markdown",
      "metadata": {
        "id": "5gm4vu7v0Mrr"
      },
      "source": [
        "\n",
        "array NumPy secara eksplisit bisa multidimensi"
      ]
    },
    {
      "cell_type": "code",
      "metadata": {
        "colab": {
          "base_uri": "https://localhost:8080/"
        },
        "id": "wrXAr5yr0Xjp",
        "outputId": "067d59ad-f1dd-463c-d010-751506156152"
      },
      "source": [
        "\n",
        "#nested lists result in multidimensional arrays\n",
        "np.array([range(i, i + 3) for i in [2, 4, 6]])"
      ],
      "execution_count": 130,
      "outputs": [
        {
          "output_type": "execute_result",
          "data": {
            "text/plain": [
              "array([[2, 3, 4],\n",
              "       [4, 5, 6],\n",
              "       [6, 7, 8]])"
            ]
          },
          "metadata": {
            "tags": []
          },
          "execution_count": 130
        }
      ]
    },
    {
      "cell_type": "markdown",
      "metadata": {
        "id": "tH7DcP1T0ZTo"
      },
      "source": [
        "d. Creating Arrays from Scratch\n",
        "\n",
        "Khusus untuk array yang lebih besar, akan lebih efisien untuk membuat array dari awal menggunakan routines dibangun ke dalam NumPy. Berikut beberapa contohnya:"
      ]
    },
    {
      "cell_type": "code",
      "metadata": {
        "colab": {
          "base_uri": "https://localhost:8080/"
        },
        "id": "pjpwHeTr0boI",
        "outputId": "1a53baa8-2df6-40db-fb53-7b67cb57f61a"
      },
      "source": [
        "#Membuat larik bilangan bulat 10 panjang yang diisi dengan nol \n",
        "np.zeros(10, dtype=int)"
      ],
      "execution_count": 131,
      "outputs": [
        {
          "output_type": "execute_result",
          "data": {
            "text/plain": [
              "array([0, 0, 0, 0, 0, 0, 0, 0, 0, 0])"
            ]
          },
          "metadata": {
            "tags": []
          },
          "execution_count": 131
        }
      ]
    },
    {
      "cell_type": "code",
      "metadata": {
        "colab": {
          "base_uri": "https://localhost:8080/"
        },
        "id": "qxPB4XZJ0gVH",
        "outputId": "91f35f0e-53c5-45b0-8ecd-eeb283a1cd6a"
      },
      "source": [
        "#Membuat array floating-point 3x5 yang diisi dengan 1s \n",
        "np.ones((3, 5), dtype=float)"
      ],
      "execution_count": 132,
      "outputs": [
        {
          "output_type": "execute_result",
          "data": {
            "text/plain": [
              "array([[1., 1., 1., 1., 1.],\n",
              "       [1., 1., 1., 1., 1.],\n",
              "       [1., 1., 1., 1., 1.]])"
            ]
          },
          "metadata": {
            "tags": []
          },
          "execution_count": 132
        }
      ]
    },
    {
      "cell_type": "code",
      "metadata": {
        "colab": {
          "base_uri": "https://localhost:8080/"
        },
        "id": "HpDnX96Q0lbq",
        "outputId": "183683e0-e26b-474e-f9b2-2937306f4d68"
      },
      "source": [
        "#Membuat array 3x5 dengan isi 3.14\n",
        "np.full((3, 5), 3.14)"
      ],
      "execution_count": 133,
      "outputs": [
        {
          "output_type": "execute_result",
          "data": {
            "text/plain": [
              "array([[3.14, 3.14, 3.14, 3.14, 3.14],\n",
              "       [3.14, 3.14, 3.14, 3.14, 3.14],\n",
              "       [3.14, 3.14, 3.14, 3.14, 3.14]])"
            ]
          },
          "metadata": {
            "tags": []
          },
          "execution_count": 133
        }
      ]
    },
    {
      "cell_type": "code",
      "metadata": {
        "colab": {
          "base_uri": "https://localhost:8080/"
        },
        "id": "ACHYWbgb0oJv",
        "outputId": "faec6b46-3b66-4606-fa3b-7ec678c7b9bf"
      },
      "source": [
        "#Buat array yang diisi dengan urutan linier\n",
        "#Mulai dari 0, berakhir pada 20, step = 2\n",
        "#(ini mirip dengan fungsi range () bawaan) \n",
        "np.arange(0, 20, 2)"
      ],
      "execution_count": 134,
      "outputs": [
        {
          "output_type": "execute_result",
          "data": {
            "text/plain": [
              "array([ 0,  2,  4,  6,  8, 10, 12, 14, 16, 18])"
            ]
          },
          "metadata": {
            "tags": []
          },
          "execution_count": 134
        }
      ]
    },
    {
      "cell_type": "code",
      "metadata": {
        "colab": {
          "base_uri": "https://localhost:8080/"
        },
        "id": "kW1tR8us0ro8",
        "outputId": "073bedd1-d5c7-4c64-f653-2056aa3bfab2"
      },
      "source": [
        "#Membuat array dengan lima nilai yang jaraknya sama antara 0 dan 1 \n",
        "np.linspace(0, 1, 5)"
      ],
      "execution_count": 135,
      "outputs": [
        {
          "output_type": "execute_result",
          "data": {
            "text/plain": [
              "array([0.  , 0.25, 0.5 , 0.75, 1.  ])"
            ]
          },
          "metadata": {
            "tags": []
          },
          "execution_count": 135
        }
      ]
    },
    {
      "cell_type": "code",
      "metadata": {
        "colab": {
          "base_uri": "https://localhost:8080/"
        },
        "id": "an8HJYI00sZF",
        "outputId": "4b22b7ad-676b-434a-f2fe-ab61766d1078"
      },
      "source": [
        "#Membuat array 3x3 yang terdistribusi secara merata\n",
        "#nilai random dari 0 dan 1\n",
        "np.random.random((3, 3))"
      ],
      "execution_count": 136,
      "outputs": [
        {
          "output_type": "execute_result",
          "data": {
            "text/plain": [
              "array([[0.65279032, 0.63505887, 0.99529957],\n",
              "       [0.58185033, 0.41436859, 0.4746975 ],\n",
              "       [0.6235101 , 0.33800761, 0.67475232]])"
            ]
          },
          "metadata": {
            "tags": []
          },
          "execution_count": 136
        }
      ]
    },
    {
      "cell_type": "code",
      "metadata": {
        "colab": {
          "base_uri": "https://localhost:8080/"
        },
        "id": "XBpKRvBB0xa8",
        "outputId": "f41552e9-b169-4fe5-bbf8-1517e1519477"
      },
      "source": [
        "#Memuat array 3x3 dengan nilai acak yang terdistribusi normal\n",
        "#dengan mean 0 dan deviasi standar 1 \n",
        "np.random.normal(0, 1, (3, 3))"
      ],
      "execution_count": 137,
      "outputs": [
        {
          "output_type": "execute_result",
          "data": {
            "text/plain": [
              "array([[ 1.0657892 , -0.69993739,  0.14407911],\n",
              "       [ 0.3985421 ,  0.02686925,  1.05583713],\n",
              "       [-0.07318342, -0.66572066, -0.04411241]])"
            ]
          },
          "metadata": {
            "tags": []
          },
          "execution_count": 137
        }
      ]
    },
    {
      "cell_type": "code",
      "metadata": {
        "colab": {
          "base_uri": "https://localhost:8080/"
        },
        "id": "kGVZOpxt0yLD",
        "outputId": "5215bf1a-54e7-4443-c5ca-54575d5202e9"
      },
      "source": [
        "#Membuat array 3x3 dari bilangan bulat acak dalam interval [0, 10) \n",
        "np.random.randint(0, 10, (3, 3))"
      ],
      "execution_count": 138,
      "outputs": [
        {
          "output_type": "execute_result",
          "data": {
            "text/plain": [
              "array([[7, 2, 9],\n",
              "       [2, 3, 3],\n",
              "       [2, 3, 4]])"
            ]
          },
          "metadata": {
            "tags": []
          },
          "execution_count": 138
        }
      ]
    },
    {
      "cell_type": "code",
      "metadata": {
        "colab": {
          "base_uri": "https://localhost:8080/"
        },
        "id": "j0k84yNF1Wco",
        "outputId": "a9db1dbd-0f50-4371-f044-4befbf431f0b"
      },
      "source": [
        "#membuat matriks identitas 3x3\n",
        "np.eye(3)"
      ],
      "execution_count": 139,
      "outputs": [
        {
          "output_type": "execute_result",
          "data": {
            "text/plain": [
              "array([[1., 0., 0.],\n",
              "       [0., 1., 0.],\n",
              "       [0., 0., 1.]])"
            ]
          },
          "metadata": {
            "tags": []
          },
          "execution_count": 139
        }
      ]
    },
    {
      "cell_type": "code",
      "metadata": {
        "colab": {
          "base_uri": "https://localhost:8080/"
        },
        "id": "FZR6_0Xy1acZ",
        "outputId": "82ef37ea-dc78-4d4d-f109-a898b736e1cd"
      },
      "source": [
        "#Membuat array tiga bilangan bulat yang tidak diinisialisasi\n",
        "#Nilai akan menjadi apa pun yang terjadi sudah ada pada saat itu\n",
        "#lokasi memori \n",
        "np.empty(3)"
      ],
      "execution_count": 140,
      "outputs": [
        {
          "output_type": "execute_result",
          "data": {
            "text/plain": [
              "array([1., 1., 1.])"
            ]
          },
          "metadata": {
            "tags": []
          },
          "execution_count": 140
        }
      ]
    },
    {
      "cell_type": "markdown",
      "metadata": {
        "id": "NMoCQmMh0dU6"
      },
      "source": [
        "e. NumPy Standard Data Types\n",
        "\n",
        "saat membangun sebuah array, Kita dapat menentukannya menggunakan string / menggunakan associated numpy object"
      ]
    },
    {
      "cell_type": "code",
      "metadata": {
        "colab": {
          "base_uri": "https://localhost:8080/"
        },
        "id": "Ij88mmQ21lJg",
        "outputId": "9c634734-9334-42bb-da44-845f9d169f03"
      },
      "source": [
        "#String\n",
        "np.zeros(10, dtype='int16')"
      ],
      "execution_count": 141,
      "outputs": [
        {
          "output_type": "execute_result",
          "data": {
            "text/plain": [
              "array([0, 0, 0, 0, 0, 0, 0, 0, 0, 0], dtype=int16)"
            ]
          },
          "metadata": {
            "tags": []
          },
          "execution_count": 141
        }
      ]
    },
    {
      "cell_type": "code",
      "metadata": {
        "colab": {
          "base_uri": "https://localhost:8080/"
        },
        "id": "QaPrUzRt1oqK",
        "outputId": "1dbe0262-24e7-40c2-9b87-923c7ef73771"
      },
      "source": [
        "#associated numpy object\n",
        "np.zeros(10, dtype=np.int16)"
      ],
      "execution_count": 142,
      "outputs": [
        {
          "output_type": "execute_result",
          "data": {
            "text/plain": [
              "array([0, 0, 0, 0, 0, 0, 0, 0, 0, 0], dtype=int16)"
            ]
          },
          "metadata": {
            "tags": []
          },
          "execution_count": 142
        }
      ]
    },
    {
      "cell_type": "markdown",
      "metadata": {
        "id": "uBSXJnZh1qxZ"
      },
      "source": [
        "2) The Basics of NumPy Arrays\n",
        "\n",
        "a. Numpy Array Attributes\n",
        "\n",
        "Kitaakan menggunakan Generator nomor acak NumPy, yang akan kita seed dengan nilai yang ditetapkan untuk memastikan bahwa array acak yang sama dibuat setiap kali kode ini dijalankan:"
      ]
    },
    {
      "cell_type": "code",
      "metadata": {
        "id": "xEqmhVPa1rc0"
      },
      "source": [
        "import numpy as np\n",
        "np.random.seed(0) #seed for reproducibility\n",
        "x1 = np.random.randint(10, size=6) # One-dimensional array\n",
        "x2 = np.random.randint(10, size=(3, 4)) # Two-dimensional array\n",
        "x3 = np.random.randint(10, size=(3, 4, 5)) # Three-dimensional array"
      ],
      "execution_count": 143,
      "outputs": []
    },
    {
      "cell_type": "code",
      "metadata": {
        "colab": {
          "base_uri": "https://localhost:8080/"
        },
        "id": "zgY5JHTZ1vJ3",
        "outputId": "348d28ed-fbb0-400a-d954-e6c2d7ee9b34"
      },
      "source": [
        "print(\"x3 ndim: \", x3.ndim)\n",
        "print(\"x3 shape:\", x3.shape)\n",
        "print(\"x3 size: \", x3.size)"
      ],
      "execution_count": 144,
      "outputs": [
        {
          "output_type": "stream",
          "text": [
            "x3 ndim:  3\n",
            "x3 shape: (3, 4, 5)\n",
            "x3 size:  60\n"
          ],
          "name": "stdout"
        }
      ]
    },
    {
      "cell_type": "code",
      "metadata": {
        "colab": {
          "base_uri": "https://localhost:8080/"
        },
        "id": "tt-d6OOH1xH1",
        "outputId": "8cefc80f-8b48-474e-93a7-1621324d52e8"
      },
      "source": [
        "#atribut dtype\n",
        "print(\"dtype:\", x3.dtype)"
      ],
      "execution_count": 145,
      "outputs": [
        {
          "output_type": "stream",
          "text": [
            "dtype: int64\n"
          ],
          "name": "stdout"
        }
      ]
    },
    {
      "cell_type": "code",
      "metadata": {
        "colab": {
          "base_uri": "https://localhost:8080/"
        },
        "id": "YgUYYOAQ1zQn",
        "outputId": "61cbb144-be9f-4f8f-81c6-5462c72fb637"
      },
      "source": [
        "print(\"itemsize:\", x3.itemsize, \"bytes\")\n",
        "print(\"nbytes:\", x3.nbytes, \"bytes\")"
      ],
      "execution_count": 146,
      "outputs": [
        {
          "output_type": "stream",
          "text": [
            "itemsize: 8 bytes\n",
            "nbytes: 480 bytes\n"
          ],
          "name": "stdout"
        }
      ]
    },
    {
      "cell_type": "markdown",
      "metadata": {
        "id": "H1tkZlsV15Ea"
      },
      "source": [
        "b. Array Indexing: Accessing Single Elements\n",
        "\n",
        "Dalam array satu dimensi, Anda dapat mengakses dengan menentukan indeks yang diinginkan dalam tanda kurung siku"
      ]
    },
    {
      "cell_type": "code",
      "metadata": {
        "colab": {
          "base_uri": "https://localhost:8080/"
        },
        "id": "LVuXNc9w15wA",
        "outputId": "ac6dcd5d-9528-4df1-b96d-e8087ae892da"
      },
      "source": [
        "x1"
      ],
      "execution_count": 147,
      "outputs": [
        {
          "output_type": "execute_result",
          "data": {
            "text/plain": [
              "array([5, 0, 3, 3, 7, 9])"
            ]
          },
          "metadata": {
            "tags": []
          },
          "execution_count": 147
        }
      ]
    },
    {
      "cell_type": "code",
      "metadata": {
        "colab": {
          "base_uri": "https://localhost:8080/"
        },
        "id": "ua1mFhvl2Era",
        "outputId": "3ad9de79-4ef9-4b54-fd94-98f47ce107bf"
      },
      "source": [
        "x1[0]"
      ],
      "execution_count": 148,
      "outputs": [
        {
          "output_type": "execute_result",
          "data": {
            "text/plain": [
              "5"
            ]
          },
          "metadata": {
            "tags": []
          },
          "execution_count": 148
        }
      ]
    },
    {
      "cell_type": "code",
      "metadata": {
        "colab": {
          "base_uri": "https://localhost:8080/"
        },
        "id": "Q0ELMLXi2NLU",
        "outputId": "ae04425f-09fa-42ca-fb7e-f3f37b6bc590"
      },
      "source": [
        "x1[4]"
      ],
      "execution_count": 149,
      "outputs": [
        {
          "output_type": "execute_result",
          "data": {
            "text/plain": [
              "7"
            ]
          },
          "metadata": {
            "tags": []
          },
          "execution_count": 149
        }
      ]
    },
    {
      "cell_type": "code",
      "metadata": {
        "colab": {
          "base_uri": "https://localhost:8080/"
        },
        "id": "Zo3eLXzM2QRa",
        "outputId": "2ce49c12-cbd3-4249-9cb0-78f2b604b7c6"
      },
      "source": [
        "\n",
        "#Untuks pengindeksan dari akhir array gunakan -\n",
        "x1[-1]"
      ],
      "execution_count": 150,
      "outputs": [
        {
          "output_type": "execute_result",
          "data": {
            "text/plain": [
              "9"
            ]
          },
          "metadata": {
            "tags": []
          },
          "execution_count": 150
        }
      ]
    },
    {
      "cell_type": "code",
      "metadata": {
        "colab": {
          "base_uri": "https://localhost:8080/"
        },
        "id": "KQ9p9PEp2Rai",
        "outputId": "f003e218-6571-4d60-fe57-b17705c5ccd7"
      },
      "source": [
        "\n",
        "x1[-2]"
      ],
      "execution_count": 151,
      "outputs": [
        {
          "output_type": "execute_result",
          "data": {
            "text/plain": [
              "7"
            ]
          },
          "metadata": {
            "tags": []
          },
          "execution_count": 151
        }
      ]
    },
    {
      "cell_type": "markdown",
      "metadata": {
        "id": "delpI8Py2S3e"
      },
      "source": [
        "\n",
        "Dalam array multidimensi, Kita mengakses item menggunakan tupel yang dipisahkan koma dari indeks:"
      ]
    },
    {
      "cell_type": "code",
      "metadata": {
        "colab": {
          "base_uri": "https://localhost:8080/"
        },
        "id": "lcgG1ceZ2TrP",
        "outputId": "81fa7306-af43-4d7e-9bdf-2de628f5ea82"
      },
      "source": [
        "x2"
      ],
      "execution_count": 152,
      "outputs": [
        {
          "output_type": "execute_result",
          "data": {
            "text/plain": [
              "array([[3, 5, 2, 4],\n",
              "       [7, 6, 8, 8],\n",
              "       [1, 6, 7, 7]])"
            ]
          },
          "metadata": {
            "tags": []
          },
          "execution_count": 152
        }
      ]
    },
    {
      "cell_type": "code",
      "metadata": {
        "colab": {
          "base_uri": "https://localhost:8080/"
        },
        "id": "vqXeNSPz2Wy5",
        "outputId": "1c9c00e3-68b7-40c1-96b1-0111cb94304d"
      },
      "source": [
        "x2[0, 0]"
      ],
      "execution_count": 153,
      "outputs": [
        {
          "output_type": "execute_result",
          "data": {
            "text/plain": [
              "3"
            ]
          },
          "metadata": {
            "tags": []
          },
          "execution_count": 153
        }
      ]
    },
    {
      "cell_type": "code",
      "metadata": {
        "colab": {
          "base_uri": "https://localhost:8080/"
        },
        "id": "CaOzH_B92XWV",
        "outputId": "9b392486-cf63-4d8b-c5bb-278ad4539d7a"
      },
      "source": [
        "x2[2, 0]"
      ],
      "execution_count": 154,
      "outputs": [
        {
          "output_type": "execute_result",
          "data": {
            "text/plain": [
              "1"
            ]
          },
          "metadata": {
            "tags": []
          },
          "execution_count": 154
        }
      ]
    },
    {
      "cell_type": "code",
      "metadata": {
        "colab": {
          "base_uri": "https://localhost:8080/"
        },
        "id": "AWzg-hpc2ZJ8",
        "outputId": "4509486c-3f4e-4323-bca9-04f1e61dbc95"
      },
      "source": [
        "x2[2, -1]"
      ],
      "execution_count": 155,
      "outputs": [
        {
          "output_type": "execute_result",
          "data": {
            "text/plain": [
              "7"
            ]
          },
          "metadata": {
            "tags": []
          },
          "execution_count": 155
        }
      ]
    },
    {
      "cell_type": "markdown",
      "metadata": {
        "id": "5b-xXKcR2btW"
      },
      "source": [
        "\n",
        "Kita dapat mengubah nilai menggunakan salah satu notasi indeks di atas"
      ]
    },
    {
      "cell_type": "code",
      "metadata": {
        "colab": {
          "base_uri": "https://localhost:8080/"
        },
        "id": "wnWsYFpT2cS-",
        "outputId": "693a2ef0-31ee-41c6-b700-5e37ec05e9fb"
      },
      "source": [
        "x2[0, 0] = 12\n",
        "x2"
      ],
      "execution_count": 156,
      "outputs": [
        {
          "output_type": "execute_result",
          "data": {
            "text/plain": [
              "array([[12,  5,  2,  4],\n",
              "       [ 7,  6,  8,  8],\n",
              "       [ 1,  6,  7,  7]])"
            ]
          },
          "metadata": {
            "tags": []
          },
          "execution_count": 156
        }
      ]
    },
    {
      "cell_type": "markdown",
      "metadata": {
        "id": "PZ0wz-Ji2esm"
      },
      "source": [
        "array NumPy memiliki tipe tetap. Ini berarti,misalnya, jika kita mencoba memasukkan nilai floating-point ke array integer, file nilai akan terpotong secara diam-diam"
      ]
    },
    {
      "cell_type": "code",
      "metadata": {
        "colab": {
          "base_uri": "https://localhost:8080/"
        },
        "id": "WtatgGkc2fk4",
        "outputId": "c87196a4-a076-4e94-bb2d-3361c8eb684e"
      },
      "source": [
        "x1[0] = 3.14159 # this will be truncated!\n",
        "x1"
      ],
      "execution_count": 157,
      "outputs": [
        {
          "output_type": "execute_result",
          "data": {
            "text/plain": [
              "array([3, 0, 3, 3, 7, 9])"
            ]
          },
          "metadata": {
            "tags": []
          },
          "execution_count": 157
        }
      ]
    },
    {
      "cell_type": "markdown",
      "metadata": {
        "id": "vVWy6qVT2kYs"
      },
      "source": [
        "c. Array Slicing: Accessing Subarrays\n",
        "\n",
        "cara mengakses subarray dalam satu dimensi dan dalam berbagai dimensi.\n",
        "\n",
        "one-dimensional subarrays"
      ]
    },
    {
      "cell_type": "code",
      "metadata": {
        "colab": {
          "base_uri": "https://localhost:8080/"
        },
        "id": "701-OJqv2k9s",
        "outputId": "e1106f93-0e8b-48c2-eb0b-b4fa14cbc5c3"
      },
      "source": [
        "x = np.arange(10)\n",
        "x"
      ],
      "execution_count": 158,
      "outputs": [
        {
          "output_type": "execute_result",
          "data": {
            "text/plain": [
              "array([0, 1, 2, 3, 4, 5, 6, 7, 8, 9])"
            ]
          },
          "metadata": {
            "tags": []
          },
          "execution_count": 158
        }
      ]
    },
    {
      "cell_type": "code",
      "metadata": {
        "colab": {
          "base_uri": "https://localhost:8080/"
        },
        "id": "VdewH0O-2npT",
        "outputId": "33e5fe96-3cd7-4c6b-b38a-482a252ad9dc"
      },
      "source": [
        "x[:5] # first five elements"
      ],
      "execution_count": 159,
      "outputs": [
        {
          "output_type": "execute_result",
          "data": {
            "text/plain": [
              "array([0, 1, 2, 3, 4])"
            ]
          },
          "metadata": {
            "tags": []
          },
          "execution_count": 159
        }
      ]
    },
    {
      "cell_type": "code",
      "metadata": {
        "colab": {
          "base_uri": "https://localhost:8080/"
        },
        "id": "OdDMeuDy2pPe",
        "outputId": "75e88029-183b-458f-a602-56ecc57a0248"
      },
      "source": [
        "\n",
        "x[5:] # elements after index 5"
      ],
      "execution_count": 160,
      "outputs": [
        {
          "output_type": "execute_result",
          "data": {
            "text/plain": [
              "array([5, 6, 7, 8, 9])"
            ]
          },
          "metadata": {
            "tags": []
          },
          "execution_count": 160
        }
      ]
    },
    {
      "cell_type": "code",
      "metadata": {
        "colab": {
          "base_uri": "https://localhost:8080/"
        },
        "id": "-x_kvlHM2qkx",
        "outputId": "4420c6b8-9342-47fc-8b41-6226204227b4"
      },
      "source": [
        "x[4:7] # middle subarray"
      ],
      "execution_count": 161,
      "outputs": [
        {
          "output_type": "execute_result",
          "data": {
            "text/plain": [
              "array([4, 5, 6])"
            ]
          },
          "metadata": {
            "tags": []
          },
          "execution_count": 161
        }
      ]
    },
    {
      "cell_type": "code",
      "metadata": {
        "colab": {
          "base_uri": "https://localhost:8080/"
        },
        "id": "vpjCxOvL2r2S",
        "outputId": "0addc4d7-87ea-4c3c-ac8b-34b2e5a89770"
      },
      "source": [
        "x[::2] # every other element"
      ],
      "execution_count": 162,
      "outputs": [
        {
          "output_type": "execute_result",
          "data": {
            "text/plain": [
              "array([0, 2, 4, 6, 8])"
            ]
          },
          "metadata": {
            "tags": []
          },
          "execution_count": 162
        }
      ]
    },
    {
      "cell_type": "code",
      "metadata": {
        "colab": {
          "base_uri": "https://localhost:8080/"
        },
        "id": "ht2zX0Sq2tea",
        "outputId": "df02aee9-7621-4a58-e057-73bfabf3fdd6"
      },
      "source": [
        "\n",
        "x[1::2] # every other element, starting at index 1\n"
      ],
      "execution_count": 163,
      "outputs": [
        {
          "output_type": "execute_result",
          "data": {
            "text/plain": [
              "array([1, 3, 5, 7, 9])"
            ]
          },
          "metadata": {
            "tags": []
          },
          "execution_count": 163
        }
      ]
    },
    {
      "cell_type": "code",
      "metadata": {
        "colab": {
          "base_uri": "https://localhost:8080/"
        },
        "id": "J-L8GNIG2u5l",
        "outputId": "d8550fff-86d5-4ec9-f77a-fe47c109df86"
      },
      "source": [
        "x[::-1] # all elements, reversed"
      ],
      "execution_count": 164,
      "outputs": [
        {
          "output_type": "execute_result",
          "data": {
            "text/plain": [
              "array([9, 8, 7, 6, 5, 4, 3, 2, 1, 0])"
            ]
          },
          "metadata": {
            "tags": []
          },
          "execution_count": 164
        }
      ]
    },
    {
      "cell_type": "code",
      "metadata": {
        "colab": {
          "base_uri": "https://localhost:8080/"
        },
        "id": "dEQSvIck2ww0",
        "outputId": "6709db30-82d0-4268-cf1d-35c949931bd3"
      },
      "source": [
        "x[5::-2] # reversed every other from index 5"
      ],
      "execution_count": 165,
      "outputs": [
        {
          "output_type": "execute_result",
          "data": {
            "text/plain": [
              "array([5, 3, 1])"
            ]
          },
          "metadata": {
            "tags": []
          },
          "execution_count": 165
        }
      ]
    },
    {
      "cell_type": "markdown",
      "metadata": {
        "id": "l7NzqaN_2zkM"
      },
      "source": [
        "x[5::-2] # reversed every other from index 5"
      ]
    },
    {
      "cell_type": "code",
      "metadata": {
        "colab": {
          "base_uri": "https://localhost:8080/"
        },
        "id": "YdSdNz_f20ZY",
        "outputId": "b069f85f-4b4f-4337-9fb4-224518b88c5e"
      },
      "source": [
        "x2"
      ],
      "execution_count": 166,
      "outputs": [
        {
          "output_type": "execute_result",
          "data": {
            "text/plain": [
              "array([[12,  5,  2,  4],\n",
              "       [ 7,  6,  8,  8],\n",
              "       [ 1,  6,  7,  7]])"
            ]
          },
          "metadata": {
            "tags": []
          },
          "execution_count": 166
        }
      ]
    },
    {
      "cell_type": "code",
      "metadata": {
        "colab": {
          "base_uri": "https://localhost:8080/"
        },
        "id": "hOoVVcvP23tv",
        "outputId": "328424a2-c43c-4277-c251-48ad24b59d50"
      },
      "source": [
        "x2[:2, :3] # two rows, three columns"
      ],
      "execution_count": 167,
      "outputs": [
        {
          "output_type": "execute_result",
          "data": {
            "text/plain": [
              "array([[12,  5,  2],\n",
              "       [ 7,  6,  8]])"
            ]
          },
          "metadata": {
            "tags": []
          },
          "execution_count": 167
        }
      ]
    },
    {
      "cell_type": "code",
      "metadata": {
        "colab": {
          "base_uri": "https://localhost:8080/"
        },
        "id": "Np1KYjsZ23ph",
        "outputId": "7b8ad3c0-ab23-4d55-eec5-1005da0312f0"
      },
      "source": [
        "x2[:3, ::2] # all rows, every other column"
      ],
      "execution_count": 168,
      "outputs": [
        {
          "output_type": "execute_result",
          "data": {
            "text/plain": [
              "array([[12,  2],\n",
              "       [ 7,  8],\n",
              "       [ 1,  7]])"
            ]
          },
          "metadata": {
            "tags": []
          },
          "execution_count": 168
        }
      ]
    },
    {
      "cell_type": "code",
      "metadata": {
        "colab": {
          "base_uri": "https://localhost:8080/"
        },
        "id": "ZheNqDs523mp",
        "outputId": "0f0588b0-6567-4974-cfa3-5f783c341045"
      },
      "source": [
        "#dimensi subarray bahkan dapat dibalik bersama: \n",
        "x2[::-1, ::-1]"
      ],
      "execution_count": 169,
      "outputs": [
        {
          "output_type": "execute_result",
          "data": {
            "text/plain": [
              "array([[ 7,  7,  6,  1],\n",
              "       [ 8,  8,  6,  7],\n",
              "       [ 4,  2,  5, 12]])"
            ]
          },
          "metadata": {
            "tags": []
          },
          "execution_count": 169
        }
      ]
    },
    {
      "cell_type": "markdown",
      "metadata": {
        "id": "KdCsd1qm3BBz"
      },
      "source": [
        "\n",
        "Accessing array rows and columns\n",
        "\n",
        "Untuk mengakses single baris atau kolom dari sebuah array.Kita dapat melakukan ini dengan menggabungkan pengindeksan dan slicing, menggunakan slice kosong yang ditandai dengan satu titik dua (:):\n",
        "\n"
      ]
    },
    {
      "cell_type": "code",
      "metadata": {
        "colab": {
          "base_uri": "https://localhost:8080/"
        },
        "id": "GSSBwKuP23iS",
        "outputId": "8a248aea-7188-4b1b-83ba-d56f901e8332"
      },
      "source": [
        "print(x2[:, 0]) # first column of x2"
      ],
      "execution_count": 170,
      "outputs": [
        {
          "output_type": "stream",
          "text": [
            "[12  7  1]\n"
          ],
          "name": "stdout"
        }
      ]
    },
    {
      "cell_type": "code",
      "metadata": {
        "colab": {
          "base_uri": "https://localhost:8080/"
        },
        "id": "c5wCqy863E2W",
        "outputId": "2ed71363-6009-431e-858e-5899c073e2cd"
      },
      "source": [
        "print(x2[0, :]) # first row of x2"
      ],
      "execution_count": 171,
      "outputs": [
        {
          "output_type": "stream",
          "text": [
            "[12  5  2  4]\n"
          ],
          "name": "stdout"
        }
      ]
    },
    {
      "cell_type": "code",
      "metadata": {
        "colab": {
          "base_uri": "https://localhost:8080/"
        },
        "id": "FMUcdLP23FBs",
        "outputId": "db08e2e8-5e5b-47ee-abf9-ec456caf16ce"
      },
      "source": [
        "#dalam kasus akses rroq, slice kosong dapat dihilangkan untuk sintaks yang lebih ringkas:\n",
        "print(x2[0]) # equivalent to x2[0, :]"
      ],
      "execution_count": 172,
      "outputs": [
        {
          "output_type": "stream",
          "text": [
            "[12  5  2  4]\n"
          ],
          "name": "stdout"
        }
      ]
    },
    {
      "cell_type": "markdown",
      "metadata": {
        "id": "Ta9OuSS93J6p"
      },
      "source": [
        "Subarrays as no-copy views\n",
        "\n",
        "irisan array mengembalikan tampilan daripada salinan data array. Ini adalah salah satu area di mana NumPy mengiris array berbeda dari slicing daftar Python:"
      ]
    },
    {
      "cell_type": "code",
      "metadata": {
        "colab": {
          "base_uri": "https://localhost:8080/"
        },
        "id": "p_e5HhGu3MLA",
        "outputId": "49f2468f-03af-48dd-c5b6-66b9a32f1355"
      },
      "source": [
        "print(x2)"
      ],
      "execution_count": 173,
      "outputs": [
        {
          "output_type": "stream",
          "text": [
            "[[12  5  2  4]\n",
            " [ 7  6  8  8]\n",
            " [ 1  6  7  7]]\n"
          ],
          "name": "stdout"
        }
      ]
    },
    {
      "cell_type": "code",
      "metadata": {
        "colab": {
          "base_uri": "https://localhost:8080/"
        },
        "id": "KVuvgdaZ3MTu",
        "outputId": "41ac1390-0ff2-43f8-a4a4-423aca0f3f83"
      },
      "source": [
        "x2_sub_copy = x2[:2, :2].copy()\n",
        "print(x2_sub_copy)"
      ],
      "execution_count": 176,
      "outputs": [
        {
          "output_type": "stream",
          "text": [
            "[[12  5]\n",
            " [ 7  6]]\n"
          ],
          "name": "stdout"
        }
      ]
    },
    {
      "cell_type": "code",
      "metadata": {
        "colab": {
          "base_uri": "https://localhost:8080/"
        },
        "id": "CdKdugr83MeR",
        "outputId": "c13ccd30-d8e7-4e23-f0d3-88069d4fb0af"
      },
      "source": [
        "x2_sub_copy[0, 0] = 99\n",
        "print(x2_sub_copy)"
      ],
      "execution_count": 180,
      "outputs": [
        {
          "output_type": "stream",
          "text": [
            "[[99  5]\n",
            " [ 7  6]]\n"
          ],
          "name": "stdout"
        }
      ]
    },
    {
      "cell_type": "code",
      "metadata": {
        "colab": {
          "base_uri": "https://localhost:8080/"
        },
        "id": "FSQURHqE3MoY",
        "outputId": "da4b7a16-ea4f-4a17-be87-3ef286ee2b70"
      },
      "source": [
        "print(x2)"
      ],
      "execution_count": 181,
      "outputs": [
        {
          "output_type": "stream",
          "text": [
            "[[12  5  2  4]\n",
            " [ 7  6  8  8]\n",
            " [ 1  6  7  7]]\n"
          ],
          "name": "stdout"
        }
      ]
    },
    {
      "cell_type": "markdown",
      "metadata": {
        "id": "aGqOZfXT3MyR"
      },
      "source": [
        "Creating copies of arrays\n",
        "\n",
        "salin data dalam array atau subarray. Ini dapat dilakukan paling mudah dengan file copy () metode:"
      ]
    },
    {
      "cell_type": "code",
      "metadata": {
        "colab": {
          "base_uri": "https://localhost:8080/"
        },
        "id": "nW5r2HA73YS6",
        "outputId": "4cd847c3-6512-414f-c6ff-d21188b159ac"
      },
      "source": [
        "x2_sub_copy[0, 0] = 42\n",
        "print(x2_sub_copy)"
      ],
      "execution_count": 182,
      "outputs": [
        {
          "output_type": "stream",
          "text": [
            "[[42  5]\n",
            " [ 7  6]]\n"
          ],
          "name": "stdout"
        }
      ]
    },
    {
      "cell_type": "code",
      "metadata": {
        "colab": {
          "base_uri": "https://localhost:8080/"
        },
        "id": "CrhkZ7px3Ybz",
        "outputId": "e063a2d4-5fef-43f3-bec8-3b8972cb5c41"
      },
      "source": [
        "x2_sub_copy[0, 0] = 42\n",
        "print(x2_sub_copy)"
      ],
      "execution_count": 185,
      "outputs": [
        {
          "output_type": "stream",
          "text": [
            "[[42  5]\n",
            " [ 7  6]]\n"
          ],
          "name": "stdout"
        }
      ]
    },
    {
      "cell_type": "code",
      "metadata": {
        "colab": {
          "base_uri": "https://localhost:8080/"
        },
        "id": "iKsSsSdt3YkD",
        "outputId": "800efa65-6777-499e-c6f0-1d4956a06d39"
      },
      "source": [
        "print(x2)"
      ],
      "execution_count": 184,
      "outputs": [
        {
          "output_type": "stream",
          "text": [
            "[[12  5  2  4]\n",
            " [ 7  6  8  8]\n",
            " [ 1  6  7  7]]\n"
          ],
          "name": "stdout"
        }
      ]
    },
    {
      "cell_type": "markdown",
      "metadata": {
        "id": "rUGruS9b3YyF"
      },
      "source": [
        "\n",
        "Reshaping of Arrays\n",
        "\n",
        "Jenis operasi lain yang berguna adalah pembentukan kembali array. Cara paling fleksibel dari melakukan ini dengan metode reshape (). Misalnya, jika ingin meletakkan nomor bers 1 hingga 9 dalam kisi 3 × 3, Kita dapat melakukan hal berikut:"
      ]
    },
    {
      "cell_type": "code",
      "metadata": {
        "colab": {
          "base_uri": "https://localhost:8080/"
        },
        "id": "S_KuABaA4580",
        "outputId": "75f8cd4c-e7a6-4c7c-9534-0ff6ffa931dd"
      },
      "source": [
        "\n",
        "grid = np.arange(1, 10).reshape((3, 3))\n",
        "print(grid)"
      ],
      "execution_count": 186,
      "outputs": [
        {
          "output_type": "stream",
          "text": [
            "[[1 2 3]\n",
            " [4 5 6]\n",
            " [7 8 9]]\n"
          ],
          "name": "stdout"
        }
      ]
    },
    {
      "cell_type": "markdown",
      "metadata": {
        "id": "ag8sYJD246RB"
      },
      "source": [
        "\n",
        "Pola pembentukan kembali lainnya adalah konversi array satu dimensi menjadi matriks baris atau kolom dua dimensi.Kita dapat melakukan ini dengan bentuk ulang metode, atau lebih mudah dengan menggunakan kata kunci sumbu baru dalam operasi:"
      ]
    },
    {
      "cell_type": "code",
      "metadata": {
        "colab": {
          "base_uri": "https://localhost:8080/",
          "height": 129
        },
        "id": "N7KjMFIy46s-",
        "outputId": "fefe0150-86f9-42b9-cd29-d04698cc0fc6"
      },
      "source": [
        "x = np.array([1, 2, 3])\n",
        " # row vector via reshape\n",
        " x.reshape((1, 3))"
      ],
      "execution_count": 198,
      "outputs": [
        {
          "output_type": "error",
          "ename": "IndentationError",
          "evalue": "ignored",
          "traceback": [
            "\u001b[0;36m  File \u001b[0;32m\"<ipython-input-198-af4f8fcff302>\"\u001b[0;36m, line \u001b[0;32m3\u001b[0m\n\u001b[0;31m    x.reshape((1, 3))\u001b[0m\n\u001b[0m    ^\u001b[0m\n\u001b[0;31mIndentationError\u001b[0m\u001b[0;31m:\u001b[0m unexpected indent\n"
          ]
        }
      ]
    },
    {
      "cell_type": "code",
      "metadata": {
        "colab": {
          "base_uri": "https://localhost:8080/"
        },
        "id": "FgVU-RgK464m",
        "outputId": "3db6aa32-73ef-4b07-e841-a4537c986318"
      },
      "source": [
        "#row vector via newaxis\n",
        "x[np.newaxis, :]"
      ],
      "execution_count": 188,
      "outputs": [
        {
          "output_type": "execute_result",
          "data": {
            "text/plain": [
              "array([[0, 1, 2, 3, 4, 5, 6, 7, 8, 9]])"
            ]
          },
          "metadata": {
            "tags": []
          },
          "execution_count": 188
        }
      ]
    },
    {
      "cell_type": "code",
      "metadata": {
        "colab": {
          "base_uri": "https://localhost:8080/",
          "height": 180
        },
        "id": "UdBvfDAi47IA",
        "outputId": "f5a9c7e8-b85c-464c-b6ed-02330dd0bb15"
      },
      "source": [
        "# column vector via reshape\n",
        "x.reshape((3, 1))"
      ],
      "execution_count": 199,
      "outputs": [
        {
          "output_type": "error",
          "ename": "ValueError",
          "evalue": "ignored",
          "traceback": [
            "\u001b[0;31m---------------------------------------------------------------------------\u001b[0m",
            "\u001b[0;31mValueError\u001b[0m                                Traceback (most recent call last)",
            "\u001b[0;32m<ipython-input-199-d5b0a532054e>\u001b[0m in \u001b[0;36m<module>\u001b[0;34m()\u001b[0m\n\u001b[1;32m      1\u001b[0m \u001b[0;31m# column vector via reshape\u001b[0m\u001b[0;34m\u001b[0m\u001b[0;34m\u001b[0m\u001b[0;34m\u001b[0m\u001b[0m\n\u001b[0;32m----> 2\u001b[0;31m \u001b[0mx\u001b[0m\u001b[0;34m.\u001b[0m\u001b[0mreshape\u001b[0m\u001b[0;34m(\u001b[0m\u001b[0;34m(\u001b[0m\u001b[0;36m3\u001b[0m\u001b[0;34m,\u001b[0m \u001b[0;36m1\u001b[0m\u001b[0;34m)\u001b[0m\u001b[0;34m)\u001b[0m\u001b[0;34m\u001b[0m\u001b[0;34m\u001b[0m\u001b[0m\n\u001b[0m",
            "\u001b[0;31mValueError\u001b[0m: cannot reshape array of size 10 into shape (3,1)"
          ]
        }
      ]
    },
    {
      "cell_type": "code",
      "metadata": {
        "colab": {
          "base_uri": "https://localhost:8080/"
        },
        "id": "CvkFO_UF47Te",
        "outputId": "ef04be09-46e3-4af0-813d-a2c2048ea7a2"
      },
      "source": [
        "# column vector via newaxis\n",
        "x[:, np.newaxis]\n"
      ],
      "execution_count": 196,
      "outputs": [
        {
          "output_type": "execute_result",
          "data": {
            "text/plain": [
              "array([[0],\n",
              "       [1],\n",
              "       [2],\n",
              "       [3],\n",
              "       [4],\n",
              "       [5],\n",
              "       [6],\n",
              "       [7],\n",
              "       [8],\n",
              "       [9]])"
            ]
          },
          "metadata": {
            "tags": []
          },
          "execution_count": 196
        }
      ]
    },
    {
      "cell_type": "markdown",
      "metadata": {
        "id": "SQf5gVHc5nyr"
      },
      "source": [
        "Array Concatenation and Splitting\n",
        "\n",
        "Menggabungkan beberapa array menjadi satu, dan sebaliknya membagi satu array menjadi beberapa array.\n",
        "\n",
        "Concatenation of arrays\n",
        "\n",
        "Penggabungan, atau penggabungan dua array di NumPy, dilakukan terutama melalui rutinitas np.concatenate, np.vstack, dan np.hstack. np.concatenate mengambil tupel atau daftar array sebagai argumen pertamanya"
      ]
    },
    {
      "cell_type": "code",
      "metadata": {
        "colab": {
          "base_uri": "https://localhost:8080/"
        },
        "id": "9GHT20AZ64cl",
        "outputId": "83dad3ef-a057-4210-a728-62a11dd449fd"
      },
      "source": [
        "x = np.array([1, 2, 3])\n",
        "y = np.array([3, 2, 1])\n",
        "np.concatenate([x, y])"
      ],
      "execution_count": 200,
      "outputs": [
        {
          "output_type": "execute_result",
          "data": {
            "text/plain": [
              "array([1, 2, 3, 3, 2, 1])"
            ]
          },
          "metadata": {
            "tags": []
          },
          "execution_count": 200
        }
      ]
    },
    {
      "cell_type": "code",
      "metadata": {
        "colab": {
          "base_uri": "https://localhost:8080/"
        },
        "id": "LctOlN5s7G-U",
        "outputId": "1edc9be1-c183-46db-bfc8-003f45e0386f"
      },
      "source": [
        "#menggabungkan lebih dari dua array sekaligus\n",
        "z = [99, 99, 99]\n",
        "print(np.concatenate([x, y, z]))"
      ],
      "execution_count": 201,
      "outputs": [
        {
          "output_type": "stream",
          "text": [
            "[ 1  2  3  3  2  1 99 99 99]\n"
          ],
          "name": "stdout"
        }
      ]
    },
    {
      "cell_type": "code",
      "metadata": {
        "id": "vpTd-lHW7JPe"
      },
      "source": [
        "grid = np.array([[1, 2, 3],[4, 5, 6]])"
      ],
      "execution_count": 204,
      "outputs": []
    },
    {
      "cell_type": "code",
      "metadata": {
        "colab": {
          "base_uri": "https://localhost:8080/"
        },
        "id": "wX6N_3_B7L9P",
        "outputId": "1cecbf4c-a8fd-49d0-b1da-44ce782064bc"
      },
      "source": [
        "# concatenate along the first axis\n",
        "np.concatenate([grid, grid])"
      ],
      "execution_count": 203,
      "outputs": [
        {
          "output_type": "execute_result",
          "data": {
            "text/plain": [
              "array([[1, 2, 3],\n",
              "       [4, 5, 6],\n",
              "       [1, 2, 3],\n",
              "       [4, 5, 6]])"
            ]
          },
          "metadata": {
            "tags": []
          },
          "execution_count": 203
        }
      ]
    },
    {
      "cell_type": "code",
      "metadata": {
        "colab": {
          "base_uri": "https://localhost:8080/"
        },
        "id": "JwZMKSl77XyI",
        "outputId": "f5242e3c-2306-4fe2-9c9e-6d4ab639b784"
      },
      "source": [
        "np.concatenate([grid, grid], axis=1)"
      ],
      "execution_count": 205,
      "outputs": [
        {
          "output_type": "execute_result",
          "data": {
            "text/plain": [
              "array([[1, 2, 3, 1, 2, 3],\n",
              "       [4, 5, 6, 4, 5, 6]])"
            ]
          },
          "metadata": {
            "tags": []
          },
          "execution_count": 205
        }
      ]
    },
    {
      "cell_type": "markdown",
      "metadata": {
        "id": "Ewo8Rrs07Z83"
      },
      "source": [
        "\n",
        "Untuk bekerja dengan array dengan dimensi campuran, akan lebih jelas menggunakan np.vstack Fungsi (stack vertikal) dan np.hstack (stack horizontal):"
      ]
    },
    {
      "cell_type": "code",
      "metadata": {
        "colab": {
          "base_uri": "https://localhost:8080/"
        },
        "id": "Com_ldZr7bhg",
        "outputId": "06f42e82-d713-4e9a-bf8d-fe43f7e33d20"
      },
      "source": [
        "x = np.array([1, 2, 3])\n",
        "grid = np.array([[9, 8, 7],[6, 5, 4]])\n",
        "# vertically stack the arrays\n",
        "np.vstack([x, grid])"
      ],
      "execution_count": 206,
      "outputs": [
        {
          "output_type": "execute_result",
          "data": {
            "text/plain": [
              "array([[1, 2, 3],\n",
              "       [9, 8, 7],\n",
              "       [6, 5, 4]])"
            ]
          },
          "metadata": {
            "tags": []
          },
          "execution_count": 206
        }
      ]
    },
    {
      "cell_type": "code",
      "metadata": {
        "colab": {
          "base_uri": "https://localhost:8080/"
        },
        "id": "2DthtOLT7eQA",
        "outputId": "7ab72f8c-8676-4cb4-bca3-35591bc639b1"
      },
      "source": [
        "# horizontally stack the arrays\n",
        "y = np.array([[99],[99]])\n",
        "np.hstack([grid, y])"
      ],
      "execution_count": 207,
      "outputs": [
        {
          "output_type": "execute_result",
          "data": {
            "text/plain": [
              "array([[ 9,  8,  7, 99],\n",
              "       [ 6,  5,  4, 99]])"
            ]
          },
          "metadata": {
            "tags": []
          },
          "execution_count": 207
        }
      ]
    },
    {
      "cell_type": "markdown",
      "metadata": {
        "id": "vUd-Vy2U7hLc"
      },
      "source": [
        "Splitting of arrays\n",
        "\n",
        "Kebalikan dari penggabungan adalah pemisahan, yang diimplementasikan oleh fungsi np.split, np.hsplit, dan np.vsplit. Untuk masing-masing ini, kita dapat memberikan daftar indeks memberikan poin perpecahan:"
      ]
    },
    {
      "cell_type": "code",
      "metadata": {
        "colab": {
          "base_uri": "https://localhost:8080/"
        },
        "id": "WSCiYPyE7iiX",
        "outputId": "536a0de7-0c46-48f6-875e-c301dbb7b3aa"
      },
      "source": [
        "x = [1, 2, 3, 99, 99, 3, 2, 1]\n",
        "x1, x2, x3 = np.split(x, [3, 5])\n",
        "print(x1, x2, x3)"
      ],
      "execution_count": 208,
      "outputs": [
        {
          "output_type": "stream",
          "text": [
            "[1 2 3] [99 99] [3 2 1]\n"
          ],
          "name": "stdout"
        }
      ]
    },
    {
      "cell_type": "markdown",
      "metadata": {
        "id": "pvC9YM617m0T"
      },
      "source": [
        "\n",
        "Perhatikan bahwa titik pisah N mengarah ke N + 1 subarray. Fungsi terkait np.hsplit dan np.vsplit serupa:"
      ]
    },
    {
      "cell_type": "code",
      "metadata": {
        "colab": {
          "base_uri": "https://localhost:8080/"
        },
        "id": "NKlzI0sF7nim",
        "outputId": "3ca7baeb-b4ef-47d9-dc0d-7d9c5cf2dee3"
      },
      "source": [
        "grid = np.arange(16).reshape((4, 4))\n",
        "grid"
      ],
      "execution_count": 209,
      "outputs": [
        {
          "output_type": "execute_result",
          "data": {
            "text/plain": [
              "array([[ 0,  1,  2,  3],\n",
              "       [ 4,  5,  6,  7],\n",
              "       [ 8,  9, 10, 11],\n",
              "       [12, 13, 14, 15]])"
            ]
          },
          "metadata": {
            "tags": []
          },
          "execution_count": 209
        }
      ]
    },
    {
      "cell_type": "code",
      "metadata": {
        "colab": {
          "base_uri": "https://localhost:8080/"
        },
        "id": "X7BHAX6o7sJ_",
        "outputId": "c16aa173-f10b-45ce-ccfc-2650a644d84d"
      },
      "source": [
        "upper, lower = np.vsplit(grid, [2])\n",
        "print(upper)\n",
        "print(lower)"
      ],
      "execution_count": 210,
      "outputs": [
        {
          "output_type": "stream",
          "text": [
            "[[0 1 2 3]\n",
            " [4 5 6 7]]\n",
            "[[ 8  9 10 11]\n",
            " [12 13 14 15]]\n"
          ],
          "name": "stdout"
        }
      ]
    },
    {
      "cell_type": "code",
      "metadata": {
        "colab": {
          "base_uri": "https://localhost:8080/"
        },
        "id": "gYJB7aCT8MEA",
        "outputId": "29257748-22a2-4994-e242-113b73eb6f1a"
      },
      "source": [
        "left, right = np.hsplit(grid, [2])\n",
        "print(left)\n",
        "print(right)"
      ],
      "execution_count": 211,
      "outputs": [
        {
          "output_type": "stream",
          "text": [
            "[[ 0  1]\n",
            " [ 4  5]\n",
            " [ 8  9]\n",
            " [12 13]]\n",
            "[[ 2  3]\n",
            " [ 6  7]\n",
            " [10 11]\n",
            " [14 15]]\n"
          ],
          "name": "stdout"
        }
      ]
    }
  ]
}