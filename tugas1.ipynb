{
  "nbformat": 4,
  "nbformat_minor": 0,
  "metadata": {
    "colab": {
      "name": "Untitled0.ipynb",
      "provenance": [],
      "authorship_tag": "ABX9TyO3En8jwLvPT5SDTw133uRb",
      "include_colab_link": true
    },
    "kernelspec": {
      "name": "python3",
      "display_name": "Python 3"
    },
    "language_info": {
      "name": "python"
    }
  },
  "cells": [
    {
      "cell_type": "markdown",
      "metadata": {
        "id": "view-in-github",
        "colab_type": "text"
      },
      "source": [
        "<a href=\"https://colab.research.google.com/github/AldhiHamdani/big-data/blob/main/tugas1.ipynb\" target=\"_parent\"><img src=\"https://colab.research.google.com/assets/colab-badge.svg\" alt=\"Open In Colab\"/></a>"
      ]
    },
    {
      "cell_type": "markdown",
      "metadata": {
        "id": "W1s39As_tS74"
      },
      "source": [
        "1. Pasting Code Blocks: %paste and %cpaste"
      ]
    },
    {
      "cell_type": "code",
      "metadata": {
        "id": "9dqaWH8csvq1"
      },
      "source": [
        "def donothing(x):\n",
        "  return x"
      ],
      "execution_count": null,
      "outputs": []
    },
    {
      "cell_type": "markdown",
      "metadata": {
        "id": "_PBNaloKtgsi"
      },
      "source": [
        "1.a) %paste"
      ]
    },
    {
      "cell_type": "code",
      "metadata": {
        "id": "XSDKPOK_tg3T"
      },
      "source": [
        "%paste\n",
        "def donothing(x):\n",
        "  return x"
      ],
      "execution_count": null,
      "outputs": []
    },
    {
      "cell_type": "markdown",
      "metadata": {
        "id": "42X7mkrftnFT"
      },
      "source": [
        "function %paste dirancang untuk menangani kesalahan saat melalakukan penempelan kode multiline"
      ]
    },
    {
      "cell_type": "markdown",
      "metadata": {
        "id": "YJ6Rs6KHtqx8"
      },
      "source": [
        "1.b) %cpaste"
      ]
    },
    {
      "cell_type": "code",
      "metadata": {
        "id": "UOlDvuBhtwmD"
      },
      "source": [
        "%cpaste\n",
        "def donothing(x):\n",
        "    return x"
      ],
      "execution_count": null,
      "outputs": []
    },
    {
      "cell_type": "markdown",
      "metadata": {
        "id": "xWoJdstgtz3C"
      },
      "source": [
        "Perintah dengan maksud yang sama adalah% cpaste, yang membuka multiline interaktif prompt di mana Anda dapat menempelkan satu atau lebih potongan kode untuk dieksekusi dalam satu batch"
      ]
    },
    {
      "cell_type": "markdown",
      "metadata": {
        "id": "aMfA_hHWt0vb"
      },
      "source": [
        "2. Running External Code: %run"
      ]
    },
    {
      "cell_type": "code",
      "metadata": {
        "id": "Lbk8jyrit48P"
      },
      "source": [
        "#-------------------------------------\n",
        "# file: myscript.py\n",
        "def square(x):\n",
        " \"\"\"square a number\"\"\"\n",
        " return x ** 2\n",
        "for N in range(1, 4):\n",
        " print(N, \"squared is\", square(N))"
      ],
      "execution_count": null,
      "outputs": []
    },
    {
      "cell_type": "code",
      "metadata": {
        "id": "Qy5PuZg5t684"
      },
      "source": [
        "%run myscript.py\n",
        "1 squared is 1\n",
        "2 squared is 4\n",
        "3 squared is 9"
      ],
      "execution_count": null,
      "outputs": []
    },
    {
      "cell_type": "code",
      "metadata": {
        "id": "J7B4ypHauAOa"
      },
      "source": [
        "square(5)"
      ],
      "execution_count": null,
      "outputs": []
    },
    {
      "cell_type": "markdown",
      "metadata": {
        "id": "i4U6isLXuAwz"
      },
      "source": [
        "Saat mulai mengembangkan kode yang lebih ekstensif, kita melakukan eksplorasi dan menyimpan kode tersebut, %run disini digunakan jika editor ingin menggunakan kode yang telah dibuat tadi tanpa membuka jendela baru."
      ]
    },
    {
      "cell_type": "markdown",
      "metadata": {
        "id": "OFL4QU5IuDOJ"
      },
      "source": [
        "3. Timing Code Execution: %timeit"
      ]
    },
    {
      "cell_type": "code",
      "metadata": {
        "id": "iC8QlVWXuH-7"
      },
      "source": [
        " %timeit L = [n ** 2 for n in range(1000)]"
      ],
      "execution_count": null,
      "outputs": []
    },
    {
      "cell_type": "markdown",
      "metadata": {
        "id": "V8IiJwKTuLnq"
      },
      "source": [
        "% timeit, yang akan otomatis menentukan waktu eksekusi pernyataan Python baris tunggal yang mengikutinya."
      ]
    },
    {
      "cell_type": "code",
      "metadata": {
        "id": "rIo7gG9CuMNR"
      },
      "source": [
        "%%timeit\n",
        "  L = []\n",
        "  for n in range(1000):\n",
        "    L.append(n ** 2)"
      ],
      "execution_count": null,
      "outputs": []
    },
    {
      "cell_type": "markdown",
      "metadata": {
        "id": "4sFwhH18uUai"
      },
      "source": [
        "Manfaat dari% timeit adalah untuk perintah singkat, ia akan secara otomatis menjalankan beberapa langkah untuk mendapatkan hasil yang lebih baik. Untuk pernyataan multiline, menambahkan tanda% kedua akan mengubah ini menjadi keajaiban sel yang dapat menangani banyak baris input."
      ]
    },
    {
      "cell_type": "markdown",
      "metadata": {
        "id": "QERLMAuouVDB"
      },
      "source": [
        "4. Help on Magic Functions: ?, %magic, and %lsmagic"
      ]
    },
    {
      "cell_type": "markdown",
      "metadata": {
        "id": "gIdHkVPGuYIp"
      },
      "source": [
        "fungsi sihir IPython memiliki dokumen, dan ini dokumentasi yang berguna dapat diakses dengan cara standar. Jadi, misalnya,"
      ]
    },
    {
      "cell_type": "markdown",
      "metadata": {
        "id": "AKVWKXSMud_E"
      },
      "source": [
        "4.a) %timeit?"
      ]
    },
    {
      "cell_type": "code",
      "metadata": {
        "id": "Eneq3U57ug4t"
      },
      "source": [
        "%timeit?"
      ],
      "execution_count": null,
      "outputs": []
    },
    {
      "cell_type": "markdown",
      "metadata": {
        "id": "2QQHxxR6ur08"
      },
      "source": [
        "4.b) %magic"
      ]
    },
    {
      "cell_type": "code",
      "metadata": {
        "id": "rss2NUM6usjD"
      },
      "source": [
        " %magic"
      ],
      "execution_count": null,
      "outputs": []
    },
    {
      "cell_type": "markdown",
      "metadata": {
        "id": "5AOkHLqUuw7K"
      },
      "source": [
        "4.c) %lsmagic"
      ]
    },
    {
      "cell_type": "code",
      "metadata": {
        "id": "qtvzMrw6uxsQ"
      },
      "source": [
        " %lsmagic"
      ],
      "execution_count": null,
      "outputs": []
    },
    {
      "cell_type": "markdown",
      "metadata": {
        "id": "qhlG7WNIu6Ui"
      },
      "source": [
        "B. INPUT AND OUTPUT HISTORY"
      ]
    },
    {
      "cell_type": "markdown",
      "metadata": {
        "id": "mrgZDHHku9_q"
      },
      "source": [
        "1. IPython’s In and Out Objects"
      ]
    },
    {
      "cell_type": "code",
      "metadata": {
        "id": "ZHUx8hQtvKzL"
      },
      "source": [
        "import math"
      ],
      "execution_count": null,
      "outputs": []
    },
    {
      "cell_type": "code",
      "metadata": {
        "id": "evtJ5vytvLfa"
      },
      "source": [
        " math.sin(2)"
      ],
      "execution_count": null,
      "outputs": []
    },
    {
      "cell_type": "code",
      "metadata": {
        "id": "deu-bLR0vNNk"
      },
      "source": [
        "math.cos(2)"
      ],
      "execution_count": null,
      "outputs": []
    },
    {
      "cell_type": "markdown",
      "metadata": {
        "id": "UnHYaavmvYnI"
      },
      "source": [
        "Kita telah mengimpor paket matematika bawaan, lalu menghitung sinus dan kosinus dari nomor 2.\n",
        "\n",
        "Tetapi masih ada lagi — IPython sebenarnya membuat beberapa variabel Python yang disebut Masuk dan Keluar yang secara otomatis diperbarui untuk mencerminkan riwayat :"
      ]
    },
    {
      "cell_type": "code",
      "metadata": {
        "colab": {
          "base_uri": "https://localhost:8080/"
        },
        "id": "6TNIoxRvva6X",
        "outputId": "13cb76c7-6ad2-4652-86df-a4f844a20758"
      },
      "source": [
        "print(In)\n",
        "['', 'import math', 'math.sin(2)', 'math.cos(2)', 'print(In)']\n",
        "\n",
        "Out"
      ],
      "execution_count": 1,
      "outputs": [
        {
          "output_type": "stream",
          "text": [
            "['', \"print(In)\\n['', 'import math', 'math.sin(2)', 'math.cos(2)', 'print(In)']\\n\\nOut\"]\n"
          ],
          "name": "stdout"
        },
        {
          "output_type": "execute_result",
          "data": {
            "text/plain": [
              "{}"
            ]
          },
          "metadata": {
            "tags": []
          },
          "execution_count": 1
        }
      ]
    },
    {
      "cell_type": "markdown",
      "metadata": {
        "id": "5ZXG0A2TvkCp"
      },
      "source": [
        "Objek Masuk adalah daftar, yang melacak perintah secara berurutan (item pertama masuk list adalah placeholder sehingga In [147] bisa merujuk ke perintah ke-147) seperti dibawah:"
      ]
    },
    {
      "cell_type": "code",
      "metadata": {
        "id": "kQrvfNAIvmXE"
      },
      "source": [
        "print(In[147])"
      ],
      "execution_count": null,
      "outputs": []
    },
    {
      "cell_type": "markdown",
      "metadata": {
        "id": "gO7z_nEovokC"
      },
      "source": [
        "Objek Out bukanlah daftar tetapi kamus yang memetakan nomor masukan ke keluarannya seperti dibawah:"
      ]
    },
    {
      "cell_type": "code",
      "metadata": {
        "id": "Cr7T-_6vvpJt"
      },
      "source": [
        "print(Out[148])"
      ],
      "execution_count": null,
      "outputs": []
    },
    {
      "cell_type": "markdown",
      "metadata": {
        "id": "CkZSkufBvsj-"
      },
      "source": [
        "Kita menganggap bahwa print adalah fungsi yang mengembalikan None; singkatnya, perintah apa pun yang mengembalikan Tidak ada tidak ditambahkan ke Keluar. Di mana ini bisa berguna adalah jika Anda ingin berinteraksi dengan hasil sebelumnya. Misalnya,"
      ]
    },
    {
      "cell_type": "code",
      "metadata": {
        "id": "U-QtMYZqvu29"
      },
      "source": [
        "Out[148] ** 2 + Out[149] ** 2"
      ],
      "execution_count": null,
      "outputs": []
    },
    {
      "cell_type": "markdown",
      "metadata": {
        "id": "rt8gRyufvxqB"
      },
      "source": [
        "2. Underscore Shortcuts and Previous Outputs"
      ]
    },
    {
      "cell_type": "markdown",
      "metadata": {
        "id": "msUWOfNiv00F"
      },
      "source": [
        "Shell Python standar hanya berisi satu pintasan sederhana untuk mengakses sebelumnya keluaran; variabel _ (yaitu, garis bawah tunggal) terus diperbarui dengan keluaran sebelumnya- taruh; ini berfungsi di IPython juga:"
      ]
    },
    {
      "cell_type": "code",
      "metadata": {
        "id": "DQhAit8Nv1gu"
      },
      "source": [
        "print(_)"
      ],
      "execution_count": null,
      "outputs": []
    },
    {
      "cell_type": "markdown",
      "metadata": {
        "id": "8Qzg1L3Dv7bt"
      },
      "source": [
        "Kita dapat menggunakan garis bawah ganda untuk mengakses file keluaran kedua hingga terakhir, dan garis bawah tiga kali lipat untuk mengakses keluaran ketiga hingga terakhir (skip-ping perintah apa pun tanpa output):\n",
        "\n"
      ]
    },
    {
      "cell_type": "code",
      "metadata": {
        "id": "30Vf0E_8v8BE"
      },
      "source": [
        "print(__)"
      ],
      "execution_count": null,
      "outputs": []
    },
    {
      "cell_type": "code",
      "metadata": {
        "id": "akNeX20sv9jO"
      },
      "source": [
        "print(___)"
      ],
      "execution_count": null,
      "outputs": []
    },
    {
      "cell_type": "markdown",
      "metadata": {
        "id": "DdSADnCiwBna"
      },
      "source": [
        "IPython berhenti di situ: lebih dari tiga garis bawah mulai menjadi agak sulit dihitung, dan pada saat itu lebih mudah untuk merujuk ke keluaran dengan nomor baris."
      ]
    },
    {
      "cell_type": "code",
      "metadata": {
        "id": "7oWtHjKUwDgT"
      },
      "source": [
        "Out[148]"
      ],
      "execution_count": null,
      "outputs": []
    },
    {
      "cell_type": "code",
      "metadata": {
        "id": "2Sp2iq2PwFtL"
      },
      "source": [
        "_148"
      ],
      "execution_count": null,
      "outputs": []
    },
    {
      "cell_type": "markdown",
      "metadata": {
        "id": "BDd_zQyswHLb"
      },
      "source": [
        "3. Suppressing Output"
      ]
    },
    {
      "cell_type": "markdown",
      "metadata": {
        "id": "IjzEzUdwwMEI"
      },
      "source": [
        "Cara termudah untuk menekan keluaran dari sebuah perintah adalah dengan menambahkan titik koma"
      ]
    },
    {
      "cell_type": "code",
      "metadata": {
        "id": "cSdsn0iWwMm6"
      },
      "source": [
        "math.sin(2) + math.cos(2);"
      ],
      "execution_count": null,
      "outputs": []
    },
    {
      "cell_type": "markdown",
      "metadata": {
        "id": "9crRIqTRwQ2F"
      },
      "source": [
        "Note :hasilnya dihitung secara diam-diam, dan hasilnya tidak ditampilkan di layar atau disimpan dalam out dictionary:"
      ]
    },
    {
      "cell_type": "code",
      "metadata": {
        "id": "XpkwO92UwSef"
      },
      "source": [
        "14 in Out"
      ],
      "execution_count": null,
      "outputs": []
    },
    {
      "cell_type": "markdown",
      "metadata": {
        "id": "dllZGXVMwU2-"
      },
      "source": [
        "4. Related Magic Commands"
      ]
    },
    {
      "cell_type": "markdown",
      "metadata": {
        "id": "Toy14UWYwYKY"
      },
      "source": [
        "Untuk mengakses sekumpulan input sebelumnya sekaligus, Magic Command %history sangat membantu. Berikut adalah cara mencetak empat masukan pertama:"
      ]
    },
    {
      "cell_type": "code",
      "metadata": {
        "id": "y2Dvt-hxwbC6"
      },
      "source": [
        "%history -n 147-150"
      ],
      "execution_count": null,
      "outputs": []
    },
    {
      "cell_type": "markdown",
      "metadata": {
        "id": "Ci-YJ7zIwbsE"
      },
      "source": [
        "C. IPYTHON AND SHELL COMMANDS"
      ]
    },
    {
      "cell_type": "markdown",
      "metadata": {
        "id": "qlKnltD-wiXf"
      },
      "source": [
        "1. Shell Commands in IPython\n",
        "\n",
        "Kita dapat menggunakan perintah apa pun yang berfungsi pada baris perintah di IPython dengan mengawalnya dengan ! karakter. Misalnya, perintah ls, pwd, dan echo dapat dijalankan sebagai berikut:"
      ]
    },
    {
      "cell_type": "code",
      "metadata": {
        "id": "6LJJGW4RwjAy"
      },
      "source": [
        "# ls = list working directory contents\n",
        "!ls"
      ],
      "execution_count": null,
      "outputs": []
    },
    {
      "cell_type": "code",
      "metadata": {
        "id": "xQqGk7dpwkn9"
      },
      "source": [
        " # pwd = print working directory\n",
        " !pwd"
      ],
      "execution_count": null,
      "outputs": []
    },
    {
      "cell_type": "code",
      "metadata": {
        "id": "iKuatkH4wmPC"
      },
      "source": [
        "# echo is like Python's print function\n",
        " !echo \"printing from the shell\""
      ],
      "execution_count": null,
      "outputs": []
    },
    {
      "cell_type": "markdown",
      "metadata": {
        "id": "1ayJALFdwpZZ"
      },
      "source": [
        "2. Passing Values to and from the Shell\n",
        "\n",
        "Perintah shell tidak hanya dapat dipanggil dari IPython, tetapi juga dapat dibuat untuk bertindak dengan namespace IPython. Misalnya, Kita dapat menyimpan output dari shell apa pun perintah ke daftar Python menggunakan operator penugasan:"
      ]
    },
    {
      "cell_type": "code",
      "metadata": {
        "id": "7QTH_kKOwqXm"
      },
      "source": [
        "contents = !ls"
      ],
      "execution_count": null,
      "outputs": []
    },
    {
      "cell_type": "code",
      "metadata": {
        "id": "9HAgC57dwsG_"
      },
      "source": [
        " print(contents)"
      ],
      "execution_count": null,
      "outputs": []
    },
    {
      "cell_type": "code",
      "metadata": {
        "id": "YvEnFAVqwtvW"
      },
      "source": [
        "directory = !pwd"
      ],
      "execution_count": null,
      "outputs": []
    },
    {
      "cell_type": "code",
      "metadata": {
        "id": "yU1vx15uwwbe"
      },
      "source": [
        " print(directory)"
      ],
      "execution_count": null,
      "outputs": []
    },
    {
      "cell_type": "code",
      "metadata": {
        "id": "HK8APjo5ww96"
      },
      "source": [
        " type(directory)"
      ],
      "execution_count": null,
      "outputs": []
    },
    {
      "cell_type": "markdown",
      "metadata": {
        "id": "_xntTnf5wyxf"
      },
      "source": [
        "metode grep dan field serta properti s, n, dan p yang memungkinkan untuk mencari, menyaring, dan menampilkan hasilnya dengan cara yang nyaman. Komunikasi direction-passing Python ke dalam shell — adalah melalui sintaks {varname}:"
      ]
    },
    {
      "cell_type": "code",
      "metadata": {
        "id": "HPPYASwDw1_h"
      },
      "source": [
        "message = \"hello from Python\""
      ],
      "execution_count": null,
      "outputs": []
    },
    {
      "cell_type": "code",
      "metadata": {
        "id": "1oNkcKZnw2o2"
      },
      "source": [
        "!echo {message}"
      ],
      "execution_count": null,
      "outputs": []
    },
    {
      "cell_type": "markdown",
      "metadata": {
        "id": "wwLrOCfbw4c3"
      },
      "source": [
        "D. Shell-Related Magic Commands"
      ]
    },
    {
      "cell_type": "markdown",
      "metadata": {
        "id": "PxLHOHp1w78i"
      },
      "source": [
        "Kita tidak dapat menggunakan! Cd untuk menavigasi sistem file:"
      ]
    },
    {
      "cell_type": "code",
      "metadata": {
        "id": "3ZcTAgnxw-nF"
      },
      "source": [
        " !pwd"
      ],
      "execution_count": null,
      "outputs": []
    },
    {
      "cell_type": "code",
      "metadata": {
        "id": "pv42023vxACL"
      },
      "source": [
        " !cd .."
      ],
      "execution_count": null,
      "outputs": []
    },
    {
      "cell_type": "code",
      "metadata": {
        "id": "hki3rfrKxBtF"
      },
      "source": [
        "!pwd"
      ],
      "execution_count": null,
      "outputs": []
    },
    {
      "cell_type": "markdown",
      "metadata": {
        "id": "eWRlh7jzxEb7"
      },
      "source": [
        "Alasannya adalah karena perintah shell di notebook dijalankan di sub-shell sementara. Jika kita ingin mengubah direktori kerja dengan cara yang lebih tahan lama, kita bisa gunakan magic command %cd:"
      ]
    },
    {
      "cell_type": "code",
      "metadata": {
        "id": "_Hhr6hO4xE2l"
      },
      "source": [
        " %cd .."
      ],
      "execution_count": null,
      "outputs": []
    },
    {
      "cell_type": "code",
      "metadata": {
        "id": "VQLhdDkYxHCa"
      },
      "source": [
        "cd content"
      ],
      "execution_count": null,
      "outputs": []
    },
    {
      "cell_type": "markdown",
      "metadata": {
        "id": "VsoZ4hT2xKX9"
      },
      "source": [
        "Selain% cd, magic command seperti shell lainnya yang tersedia adalah %cat,%cp,%env,%ls,%man, %mkdir,%more,%mv,%pwd,%rm, dan %rmdir, yang mana saja dapat digunakan tanpa tanda % jika automagic aktif. sehingga hampir bisa memperlakukan IPython eolah-olah itu adalah shell biasa:"
      ]
    },
    {
      "cell_type": "code",
      "metadata": {
        "id": "xmjci9cbxMzt"
      },
      "source": [
        "mkdir tmps"
      ],
      "execution_count": null,
      "outputs": []
    },
    {
      "cell_type": "markdown",
      "metadata": {
        "id": "VSGoARPgxNbV"
      },
      "source": [
        "mkdir= make new directory"
      ]
    },
    {
      "cell_type": "code",
      "metadata": {
        "id": "foirOmQNxPKN"
      },
      "source": [
        " ls"
      ],
      "execution_count": null,
      "outputs": []
    },
    {
      "cell_type": "code",
      "metadata": {
        "id": "7h47e34-xTJk"
      },
      "source": [
        "cp myproject.txt tmp/"
      ],
      "execution_count": null,
      "outputs": []
    },
    {
      "cell_type": "code",
      "metadata": {
        "id": "-65Zbh7JxTlk"
      },
      "source": [
        "ls tmps"
      ],
      "execution_count": null,
      "outputs": []
    },
    {
      "cell_type": "code",
      "metadata": {
        "id": "2_UghRs3xXKK"
      },
      "source": [
        " rm -r tmps"
      ],
      "execution_count": null,
      "outputs": []
    },
    {
      "cell_type": "markdown",
      "metadata": {
        "id": "SEnzH40zxYiy"
      },
      "source": [
        "Akses ke shell ini dari dalam jendela terminal yang sama dengan sesi Python, berarti bahwa ada lebih sedikit perpindahan bolak-balik antara interpreter dan shell saat menulis kode Python."
      ]
    }
  ]
}